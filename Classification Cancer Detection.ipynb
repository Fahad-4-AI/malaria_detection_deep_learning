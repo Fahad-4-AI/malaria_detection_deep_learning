{
 "cells": [
  {
   "cell_type": "markdown",
   "id": "1f0d72f8-9621-4bf7-83e5-a4dc470558ef",
   "metadata": {},
   "source": [
    "### DeepLearning - Deep Neural Network (TF + Keras)"
   ]
  },
  {
   "cell_type": "markdown",
   "id": "4d81edd5-befc-4219-9259-090078b7dfeb",
   "metadata": {},
   "source": [
    "#### Problem: Classiifcation "
   ]
  },
  {
   "cell_type": "code",
   "execution_count": 1,
   "id": "7fa3ea15-d67b-4626-9f2e-2515d11b4900",
   "metadata": {},
   "outputs": [],
   "source": [
    "# Dataset: Cancer dataset -- predict M, B "
   ]
  },
  {
   "cell_type": "code",
   "execution_count": 2,
   "id": "064f2405-53e3-45fd-8def-9969fdbaa0f2",
   "metadata": {},
   "outputs": [],
   "source": [
    "import numpy as np\n",
    "import pandas as pd\n",
    "import matplotlib.pyplot as plt\n",
    "import seaborn as sns"
   ]
  },
  {
   "cell_type": "code",
   "execution_count": 3,
   "id": "b697cb10-074a-4f8e-8dec-a4776c7abfb7",
   "metadata": {},
   "outputs": [],
   "source": [
    "from sklearn.model_selection import train_test_split\n",
    "from sklearn.preprocessing import MinMaxScaler, StandardScaler\n",
    "from sklearn.metrics import mean_squared_error"
   ]
  },
  {
   "cell_type": "code",
   "execution_count": 4,
   "id": "c0fa1974-caec-4368-bd61-996094f49f33",
   "metadata": {},
   "outputs": [],
   "source": [
    "from tensorflow.keras import models                  # Sequential\n",
    "from tensorflow.keras import layers                  # Dense, Dropout\n",
    "from tensorflow.keras.callbacks import EarlyStopping # ..."
   ]
  },
  {
   "cell_type": "code",
   "execution_count": null,
   "id": "940bd834-2f73-48d1-bd82-a1f03aceba61",
   "metadata": {},
   "outputs": [],
   "source": []
  },
  {
   "cell_type": "code",
   "execution_count": 5,
   "id": "0215c25a-0493-4ce0-aecb-8ac712d05a6f",
   "metadata": {},
   "outputs": [],
   "source": [
    "df = pd.read_csv('dl_datasets_1/cancer_classification.csv')"
   ]
  },
  {
   "cell_type": "code",
   "execution_count": 7,
   "id": "8ebb5c98-b50c-4dd8-a5d1-19eb1759593d",
   "metadata": {},
   "outputs": [],
   "source": [
    "# df"
   ]
  },
  {
   "cell_type": "code",
   "execution_count": 8,
   "id": "959cd52f-6694-4c6a-9913-aa26bef06ebe",
   "metadata": {},
   "outputs": [],
   "source": [
    "# EDA"
   ]
  },
  {
   "cell_type": "code",
   "execution_count": 9,
   "id": "9d6eaf12-ae59-4563-a768-a9662f030423",
   "metadata": {},
   "outputs": [],
   "source": [
    "X = df.iloc[:, :-1].values\n",
    "y = df.iloc[:, -1].values"
   ]
  },
  {
   "cell_type": "code",
   "execution_count": 10,
   "id": "1c4ec096-073d-4160-9610-20564300f615",
   "metadata": {},
   "outputs": [],
   "source": [
    "X_train, X_test, y_train, y_test = train_test_split(\n",
    "    X, y, test_size=0.33, random_state=42)"
   ]
  },
  {
   "cell_type": "code",
   "execution_count": 11,
   "id": "761926f2-720b-44f0-b64e-0647ca4b0b5d",
   "metadata": {},
   "outputs": [],
   "source": [
    "sc = MinMaxScaler()"
   ]
  },
  {
   "cell_type": "code",
   "execution_count": 12,
   "id": "8ce48e9e-3fa7-4f85-86ee-b45f3d60ecac",
   "metadata": {},
   "outputs": [],
   "source": [
    "X_train = sc.fit_transform(X_train)\n",
    "X_test = sc.transform(X_test)"
   ]
  },
  {
   "cell_type": "code",
   "execution_count": 14,
   "id": "4db3160c-3dae-4813-94c2-83b600b714b2",
   "metadata": {},
   "outputs": [
    {
     "data": {
      "text/plain": [
       "(381, 30)"
      ]
     },
     "execution_count": 14,
     "metadata": {},
     "output_type": "execute_result"
    }
   ],
   "source": [
    "X_train.shape"
   ]
  },
  {
   "cell_type": "code",
   "execution_count": 15,
   "id": "e01cac6a-6939-4f87-9886-8308a74a1944",
   "metadata": {},
   "outputs": [],
   "source": [
    "model = models.Sequential()\n",
    "\n",
    "# Hidden layers\n",
    "model.add(layers.Dense(units=30, activation='relu'))\n",
    "model.add(layers.Dense(units=15, activation='relu'))\n",
    "\n",
    "# Output layer \n",
    "model.add(layers.Dense(units=1, activation='sigmoid'))"
   ]
  },
  {
   "cell_type": "code",
   "execution_count": 16,
   "id": "95239128-ea81-438f-bd2c-449d8e7f481b",
   "metadata": {},
   "outputs": [],
   "source": [
    "model.compile(optimizer='adam', loss='binary_crossentropy')"
   ]
  },
  {
   "cell_type": "code",
   "execution_count": 27,
   "id": "ab0036b4-c809-4bff-822f-cc6103c682f6",
   "metadata": {},
   "outputs": [],
   "source": [
    "model.fit(x=X_train, y=y_train, epochs=600, validation_data=(X_test, y_test))"
   ]
  },
  {
   "cell_type": "code",
   "execution_count": 18,
   "id": "1db73085-b46c-442f-9ebb-b2999f18a418",
   "metadata": {},
   "outputs": [],
   "source": [
    "loss_df = pd.DataFrame(model.history.history)"
   ]
  },
  {
   "cell_type": "code",
   "execution_count": 19,
   "id": "73858102-2ba6-4245-89a0-8d0c4299f760",
   "metadata": {},
   "outputs": [
    {
     "data": {
      "text/plain": [
       "<AxesSubplot:>"
      ]
     },
     "execution_count": 19,
     "metadata": {},
     "output_type": "execute_result"
    },
    {
     "data": {
      "image/png": "[encoded data removed]",
      "text/plain": [
       "<Figure size 432x288 with 1 Axes>"
      ]
     },
     "metadata": {
      "needs_background": "light"
     },
     "output_type": "display_data"
    }
   ],
   "source": [
    "loss_df.plot()"
   ]
  },
  {
   "cell_type": "code",
   "execution_count": null,
   "id": "9e76d018-b60c-4700-adae-f725642bc541",
   "metadata": {},
   "outputs": [],
   "source": []
  },
  {
   "cell_type": "code",
   "execution_count": 20,
   "id": "21c1c0e5-afd4-4ab3-b88e-b01bca9fc0df",
   "metadata": {},
   "outputs": [],
   "source": [
    "model = models.Sequential()\n",
    "\n",
    "# Hidden layers\n",
    "model.add(layers.Dense(units=30, activation='relu'))\n",
    "model.add(layers.Dense(units=15, activation='relu'))\n",
    "\n",
    "# Output layer \n",
    "model.add(layers.Dense(units=1, activation='sigmoid'))"
   ]
  },
  {
   "cell_type": "code",
   "execution_count": 21,
   "id": "9db53d2f-b5c4-445a-8460-0b90247dfa06",
   "metadata": {},
   "outputs": [],
   "source": [
    "model.compile(optimizer='adam', loss='binary_crossentropy')"
   ]
  },
  {
   "cell_type": "code",
   "execution_count": 22,
   "id": "877bce13-de4d-4f7d-a570-3dc673716939",
   "metadata": {},
   "outputs": [],
   "source": [
    "early_stop = EarlyStopping(monitor='val_loss', mode='min', patience=25)"
   ]
  },
  {
   "cell_type": "code",
   "execution_count": 28,
   "id": "5dbc8c12-78c6-4f58-9821-2950c48e94aa",
   "metadata": {},
   "outputs": [],
   "source": [
    "model.fit(x=X_train, y=y_train, epochs=600, validation_data=(X_test, y_test),\n",
    "         callbacks=early_stop, batch_size=32)"
   ]
  },
  {
   "cell_type": "code",
   "execution_count": 25,
   "id": "9c6ede6c-84c0-4ab2-8dbc-00fab4a0dff9",
   "metadata": {},
   "outputs": [],
   "source": [
    "loss_df_2 = pd.DataFrame(model.history.history)"
   ]
  },
  {
   "cell_type": "code",
   "execution_count": 26,
   "id": "6d08131c-ca21-49c6-8b5d-6e7602b957dc",
   "metadata": {},
   "outputs": [
    {
     "data": {
      "text/plain": [
       "<AxesSubplot:>"
      ]
     },
     "execution_count": 26,
     "metadata": {},
     "output_type": "execute_result"
    },
    {
     "data": {
      "image/png": "[encoded data removed]",
      "text/plain": [
       "<Figure size 432x288 with 1 Axes>"
      ]
     },
     "metadata": {
      "needs_background": "light"
     },
     "output_type": "display_data"
    }
   ],
   "source": [
    "loss_df_2.plot()"
   ]
  },
  {
   "cell_type": "code",
   "execution_count": null,
   "id": "03b9ddb2-3a22-40a5-95c8-797f821997da",
   "metadata": {},
   "outputs": [],
   "source": []
  },
  {
   "cell_type": "code",
   "execution_count": null,
   "id": "5ecd0fac-cb7b-4adb-b77d-3a50ca7185bb",
   "metadata": {},
   "outputs": [],
   "source": []
  },
  {
   "cell_type": "code",
   "execution_count": 29,
   "id": "a4f93e50-55df-45d7-ae6e-4b1513dd2aa3",
   "metadata": {},
   "outputs": [],
   "source": [
    "model = models.Sequential()\n",
    "\n",
    "# Hidden layers\n",
    "model.add(layers.Dense(units=30, activation='relu'))\n",
    "model.add(layers.Dropout(0.5))\n",
    "model.add(layers.Dense(units=15, activation='relu'))\n",
    "model.add(layers.Dropout(0.5))\n",
    "\n",
    "# Output layer \n",
    "model.add(layers.Dense(units=1, activation='sigmoid'))"
   ]
  },
  {
   "cell_type": "code",
   "execution_count": 30,
   "id": "160fb847-94e7-4768-a7a6-ba5f00aad707",
   "metadata": {},
   "outputs": [],
   "source": [
    "model.compile(optimizer='adam', loss='binary_crossentropy')"
   ]
  },
  {
   "cell_type": "code",
   "execution_count": 31,
   "id": "714d0ae9-875d-49db-ab23-642b673d9c9f",
   "metadata": {},
   "outputs": [],
   "source": [
    "early_stop = EarlyStopping(monitor='val_loss', mode='min', patience=25)"
   ]
  },
  {
   "cell_type": "code",
   "execution_count": 33,
   "id": "acecdf4d-5a6a-4882-bfbd-be3250bd7f91",
   "metadata": {},
   "outputs": [],
   "source": [
    "model.fit(x=X_train, y=y_train, epochs=600, validation_data=(X_test, y_test),\n",
    "         callbacks=early_stop, batch_size=32)"
   ]
  },
  {
   "cell_type": "code",
   "execution_count": 34,
   "id": "0b5811bd-8168-48bd-8aa1-120832ee0eaf",
   "metadata": {},
   "outputs": [],
   "source": [
    "loss_df_3 = pd.DataFrame(model.history.history)"
   ]
  },
  {
   "cell_type": "code",
   "execution_count": 35,
   "id": "78dfabee-3b5c-4bf9-a07a-3944260e4ee4",
   "metadata": {},
   "outputs": [
    {
     "data": {
      "text/plain": [
       "<AxesSubplot:>"
      ]
     },
     "execution_count": 35,
     "metadata": {},
     "output_type": "execute_result"
    },
    {
     "data": {
      "image/png": "[encoded data removed]",
      "text/plain": [
       "<Figure size 432x288 with 1 Axes>"
      ]
     },
     "metadata": {
      "needs_background": "light"
     },
     "output_type": "display_data"
    }
   ],
   "source": [
    "loss_df_3.plot()"
   ]
  },
  {
   "cell_type": "code",
   "execution_count": 36,
   "id": "d70d84ec-1669-40b1-b386-2010ede44912",
   "metadata": {},
   "outputs": [
    {
     "name": "stdout",
     "output_type": "stream",
     "text": [
      "12/12 [==============================] - 0s 3ms/step - loss: 0.0381\n",
      "6/6 [==============================] - 0s 2ms/step - loss: 0.0552\n"
     ]
    }
   ],
   "source": [
    "training_loss = model.evaluate(X_train, y_train)\n",
    "testing_loss = model.evaluate(X_test, y_test)"
   ]
  },
  {
   "cell_type": "code",
   "execution_count": 37,
   "id": "37cb60eb-ac62-492d-91ef-a9a98d5dbf53",
   "metadata": {},
   "outputs": [
    {
     "data": {
      "text/plain": [
       "0.0380590595304966"
      ]
     },
     "execution_count": 37,
     "metadata": {},
     "output_type": "execute_result"
    }
   ],
   "source": [
    "training_loss"
   ]
  },
  {
   "cell_type": "code",
   "execution_count": 38,
   "id": "c3fcda1d-8b93-4734-8485-d59cac728567",
   "metadata": {},
   "outputs": [
    {
     "data": {
      "text/plain": [
       "0.05520375818014145"
      ]
     },
     "execution_count": 38,
     "metadata": {},
     "output_type": "execute_result"
    }
   ],
   "source": [
    "testing_loss"
   ]
  },
  {
   "cell_type": "code",
   "execution_count": 50,
   "id": "baf719a9-2d30-4cae-a228-dc5b65509a95",
   "metadata": {},
   "outputs": [
    {
     "name": "stdout",
     "output_type": "stream",
     "text": [
      "6/6 [==============================] - 0s 4ms/step\n"
     ]
    }
   ],
   "source": [
    "test_prediction = model.predict(X_test)"
   ]
  },
  {
   "cell_type": "code",
   "execution_count": 41,
   "id": "26c0d743-b46d-4987-9137-0d3a9e0a9b6e",
   "metadata": {},
   "outputs": [],
   "source": [
    "# y_test or true value \n",
    "# test_prediction or predict values"
   ]
  },
  {
   "cell_type": "code",
   "execution_count": 51,
   "id": "55e63f55-70c5-4a15-a8d9-c2d6ce426832",
   "metadata": {},
   "outputs": [
    {
     "data": {
      "text/plain": [
       "(188, 1)"
      ]
     },
     "execution_count": 51,
     "metadata": {},
     "output_type": "execute_result"
    }
   ],
   "source": [
    "test_prediction.shape"
   ]
  },
  {
   "cell_type": "code",
   "execution_count": 52,
   "id": "0bba3f4c-9de5-4f6c-8e9c-fa98ae2dd4b1",
   "metadata": {},
   "outputs": [],
   "source": [
    "test_prediction = pd.Series(test_prediction.reshape(188,))"
   ]
  },
  {
   "cell_type": "code",
   "execution_count": 53,
   "id": "6216ac3f-cc93-495f-b025-27ab579262c5",
   "metadata": {},
   "outputs": [],
   "source": [
    "pred_data = pd.DataFrame(y_test, columns=['Y True value'])"
   ]
  },
  {
   "cell_type": "code",
   "execution_count": 54,
   "id": "4a6a3b46-c310-4b5a-a658-eb8f07b153a4",
   "metadata": {},
   "outputs": [],
   "source": [
    "pred_data = pd.concat([pred_data, test_prediction], axis=1)"
   ]
  },
  {
   "cell_type": "code",
   "execution_count": 57,
   "id": "e4929187-6e6a-4036-9e19-e444fb3923eb",
   "metadata": {},
   "outputs": [],
   "source": [
    "pred_data.columns = ['Y True value', 'Y predicted value']"
   ]
  },
  {
   "cell_type": "code",
   "execution_count": 60,
   "id": "3540634c-f433-4363-9723-6d88ebba0ac8",
   "metadata": {},
   "outputs": [],
   "source": [
    "# sns.scatterplot(x=pred_data['Y True value'], y=pred_data['Y predicted value'])"
   ]
  },
  {
   "cell_type": "code",
   "execution_count": 61,
   "id": "0cde0846-2459-4190-91eb-2b8943949095",
   "metadata": {},
   "outputs": [],
   "source": [
    "# single vlaue prediction ..."
   ]
  },
  {
   "cell_type": "code",
   "execution_count": 64,
   "id": "a9df250c-5557-47e1-9f10-98d27e81e344",
   "metadata": {},
   "outputs": [],
   "source": [
    "# df"
   ]
  },
  {
   "cell_type": "code",
   "execution_count": null,
   "id": "9a5ce3fc-fbdf-4776-83a3-33c9633fd95b",
   "metadata": {},
   "outputs": [],
   "source": [
    "sp = model.predict([])"
   ]
  }
 ],
 "metadata": {
  "kernelspec": {
   "display_name": "Python 3 (ipykernel)",
   "language": "python",
   "name": "python3"
  },
  "language_info": {
   "codemirror_mode": {
    "name": "ipython",
    "version": 3
   },
   "file_extension": ".py",
   "mimetype": "text/x-python",
   "name": "python",
   "nbconvert_exporter": "python",
   "pygments_lexer": "ipython3",
   "version": "3.9.12"
  }
 },
 "nbformat": 4,
 "nbformat_minor": 5
}
